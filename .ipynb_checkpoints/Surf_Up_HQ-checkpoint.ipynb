{
 "cells": [
  {
   "cell_type": "markdown",
   "metadata": {},
   "source": [
    "<h1>Surf's Up: Advanced Data Storage & Retrieval</h1>"
   ]
  },
  {
   "cell_type": "code",
   "execution_count": 2,
   "metadata": {},
   "outputs": [],
   "source": [
    "import sqlalchemy\n",
    "from sqlalchemy.ext.automap import automap_base\n",
    "from sqlalchemy.orm import Session\n",
    "from sqlalchemy import create_engine, func, inspect"
   ]
  },
  {
   "cell_type": "markdown",
   "metadata": {},
   "source": [
    "These lines use SQLalchemy to convert the .sqlite database file into a format that python can use. </br> \n",
    "<strong>create_engine</strong> makes what SQLalchemy documentation describes as the <em>starting point</em> for a db</br> \n",
    "<strong>automap_base</strong> makes the engine into classes</br>\n",
    "<strong>ORM Session</strong> maps the classes into a useable format for python</br>\n",
    "<strong>.keys</strong> looks at the class(es) and returns the table names</br>"
   ]
  },
  {
   "cell_type": "code",
   "execution_count": 3,
   "metadata": {},
   "outputs": [
    {
     "data": {
      "text/plain": [
       "['measurement', 'station']"
      ]
     },
     "execution_count": 3,
     "metadata": {},
     "output_type": "execute_result"
    }
   ],
   "source": [
    "surf_engine = create_engine(\"sqlite:///Resources/hawaii.sqlite\")\n",
    "surf_base = automap_base()\n",
    "surf_base.prepare(surf_engine, reflect=True)\n",
    "surf_base.classes.keys()"
   ]
  },
  {
   "cell_type": "markdown",
   "metadata": {},
   "source": [
    "<strong>.classes</strong> makes <em>references</em> for the two original tables</br>\n",
    "<strong>Session</strong> is a <em>holding zone</em> for the queries to be run</br>"
   ]
  },
  {
   "cell_type": "code",
   "execution_count": 4,
   "metadata": {},
   "outputs": [],
   "source": [
    "Measurement = surf_base.classes.measurement\n",
    "Station = surf_base.classes.station\n",
    "Surf_ORM_Session = Session(surf_engine)"
   ]
  },
  {
   "cell_type": "markdown",
   "metadata": {},
   "source": [
    "Here I use <strong>Pandas</strong> to read the .sqlite tables and perform queries and return as a datframe"
   ]
  },
  {
   "cell_type": "code",
   "execution_count": 5,
   "metadata": {},
   "outputs": [
    {
     "data": {
      "text/html": [
       "<div>\n",
       "<style scoped>\n",
       "    .dataframe tbody tr th:only-of-type {\n",
       "        vertical-align: middle;\n",
       "    }\n",
       "\n",
       "    .dataframe tbody tr th {\n",
       "        vertical-align: top;\n",
       "    }\n",
       "\n",
       "    .dataframe thead th {\n",
       "        text-align: right;\n",
       "    }\n",
       "</style>\n",
       "<table border=\"1\" class=\"dataframe\">\n",
       "  <thead>\n",
       "    <tr style=\"text-align: right;\">\n",
       "      <th></th>\n",
       "      <th>id</th>\n",
       "      <th>station</th>\n",
       "      <th>date</th>\n",
       "      <th>prcp</th>\n",
       "      <th>tobs</th>\n",
       "    </tr>\n",
       "  </thead>\n",
       "  <tbody>\n",
       "    <tr>\n",
       "      <th>0</th>\n",
       "      <td>1</td>\n",
       "      <td>USC00519397</td>\n",
       "      <td>2010-01-01</td>\n",
       "      <td>0.08</td>\n",
       "      <td>65.0</td>\n",
       "    </tr>\n",
       "    <tr>\n",
       "      <th>1</th>\n",
       "      <td>2</td>\n",
       "      <td>USC00519397</td>\n",
       "      <td>2010-01-02</td>\n",
       "      <td>0.00</td>\n",
       "      <td>63.0</td>\n",
       "    </tr>\n",
       "    <tr>\n",
       "      <th>2</th>\n",
       "      <td>3</td>\n",
       "      <td>USC00519397</td>\n",
       "      <td>2010-01-03</td>\n",
       "      <td>0.00</td>\n",
       "      <td>74.0</td>\n",
       "    </tr>\n",
       "    <tr>\n",
       "      <th>3</th>\n",
       "      <td>4</td>\n",
       "      <td>USC00519397</td>\n",
       "      <td>2010-01-04</td>\n",
       "      <td>0.00</td>\n",
       "      <td>76.0</td>\n",
       "    </tr>\n",
       "    <tr>\n",
       "      <th>4</th>\n",
       "      <td>5</td>\n",
       "      <td>USC00519397</td>\n",
       "      <td>2010-01-06</td>\n",
       "      <td>NaN</td>\n",
       "      <td>73.0</td>\n",
       "    </tr>\n",
       "  </tbody>\n",
       "</table>\n",
       "</div>"
      ],
      "text/plain": [
       "   id      station        date  prcp  tobs\n",
       "0   1  USC00519397  2010-01-01  0.08  65.0\n",
       "1   2  USC00519397  2010-01-02  0.00  63.0\n",
       "2   3  USC00519397  2010-01-03  0.00  74.0\n",
       "3   4  USC00519397  2010-01-04  0.00  76.0\n",
       "4   5  USC00519397  2010-01-06   NaN  73.0"
      ]
     },
     "execution_count": 5,
     "metadata": {},
     "output_type": "execute_result"
    }
   ],
   "source": [
    "import pandas as pd\n",
    "\n",
    "xx = surf_engine.connect()\n",
    "yy = pd.read_sql(\"SELECT * FROM measurement\",xx)\n",
    "yy.head()"
   ]
  },
  {
   "cell_type": "markdown",
   "metadata": {},
   "source": [
    "From nine stations we have daily measurements over a period of 7+ years"
   ]
  },
  {
   "cell_type": "code",
   "execution_count": 6,
   "metadata": {},
   "outputs": [
    {
     "data": {
      "text/plain": [
       "19550"
      ]
     },
     "execution_count": 6,
     "metadata": {},
     "output_type": "execute_result"
    }
   ],
   "source": [
    "len(yy)"
   ]
  },
  {
   "cell_type": "markdown",
   "metadata": {},
   "source": [
    "Sorting by date, i return a dataframe in descending order to see the last day of measurement"
   ]
  },
  {
   "cell_type": "code",
   "execution_count": 7,
   "metadata": {},
   "outputs": [
    {
     "data": {
      "text/html": [
       "<div>\n",
       "<style scoped>\n",
       "    .dataframe tbody tr th:only-of-type {\n",
       "        vertical-align: middle;\n",
       "    }\n",
       "\n",
       "    .dataframe tbody tr th {\n",
       "        vertical-align: top;\n",
       "    }\n",
       "\n",
       "    .dataframe thead th {\n",
       "        text-align: right;\n",
       "    }\n",
       "</style>\n",
       "<table border=\"1\" class=\"dataframe\">\n",
       "  <thead>\n",
       "    <tr style=\"text-align: right;\">\n",
       "      <th></th>\n",
       "      <th>id</th>\n",
       "      <th>station</th>\n",
       "      <th>date</th>\n",
       "      <th>prcp</th>\n",
       "      <th>tobs</th>\n",
       "    </tr>\n",
       "  </thead>\n",
       "  <tbody>\n",
       "    <tr>\n",
       "      <th>19549</th>\n",
       "      <td>19550</td>\n",
       "      <td>USC00516128</td>\n",
       "      <td>2017-08-23</td>\n",
       "      <td>0.45</td>\n",
       "      <td>76.0</td>\n",
       "    </tr>\n",
       "    <tr>\n",
       "      <th>12186</th>\n",
       "      <td>12187</td>\n",
       "      <td>USC00519523</td>\n",
       "      <td>2017-08-23</td>\n",
       "      <td>0.08</td>\n",
       "      <td>82.0</td>\n",
       "    </tr>\n",
       "    <tr>\n",
       "      <th>2723</th>\n",
       "      <td>2724</td>\n",
       "      <td>USC00519397</td>\n",
       "      <td>2017-08-23</td>\n",
       "      <td>0.00</td>\n",
       "      <td>81.0</td>\n",
       "    </tr>\n",
       "    <tr>\n",
       "      <th>7634</th>\n",
       "      <td>7635</td>\n",
       "      <td>USC00514830</td>\n",
       "      <td>2017-08-23</td>\n",
       "      <td>0.00</td>\n",
       "      <td>82.0</td>\n",
       "    </tr>\n",
       "    <tr>\n",
       "      <th>12185</th>\n",
       "      <td>12186</td>\n",
       "      <td>USC00519523</td>\n",
       "      <td>2017-08-22</td>\n",
       "      <td>0.00</td>\n",
       "      <td>82.0</td>\n",
       "    </tr>\n",
       "  </tbody>\n",
       "</table>\n",
       "</div>"
      ],
      "text/plain": [
       "          id      station        date  prcp  tobs\n",
       "19549  19550  USC00516128  2017-08-23  0.45  76.0\n",
       "12186  12187  USC00519523  2017-08-23  0.08  82.0\n",
       "2723    2724  USC00519397  2017-08-23  0.00  81.0\n",
       "7634    7635  USC00514830  2017-08-23  0.00  82.0\n",
       "12185  12186  USC00519523  2017-08-22  0.00  82.0"
      ]
     },
     "execution_count": 7,
     "metadata": {},
     "output_type": "execute_result"
    }
   ],
   "source": [
    "yy.sort_values(by='date', ascending=False).head()"
   ]
  },
  {
   "cell_type": "markdown",
   "metadata": {},
   "source": [
    "</br>\n",
    "</br>\n",
    "</br>\n",
    "<strong>inspect</strong> is used to return information about the .sql tables in json form"
   ]
  },
  {
   "cell_type": "code",
   "execution_count": 8,
   "metadata": {},
   "outputs": [
    {
     "data": {
      "text/plain": [
       "['measurement', 'station']"
      ]
     },
     "execution_count": 8,
     "metadata": {},
     "output_type": "execute_result"
    }
   ],
   "source": [
    "zz = inspect(xx)\n",
    "zz.get_table_names() "
   ]
  },
  {
   "cell_type": "code",
   "execution_count": 9,
   "metadata": {},
   "outputs": [
    {
     "data": {
      "text/plain": [
       "[{'name': 'id',\n",
       "  'type': INTEGER(),\n",
       "  'nullable': False,\n",
       "  'default': None,\n",
       "  'autoincrement': 'auto',\n",
       "  'primary_key': 1},\n",
       " {'name': 'station',\n",
       "  'type': TEXT(),\n",
       "  'nullable': True,\n",
       "  'default': None,\n",
       "  'autoincrement': 'auto',\n",
       "  'primary_key': 0},\n",
       " {'name': 'date',\n",
       "  'type': TEXT(),\n",
       "  'nullable': True,\n",
       "  'default': None,\n",
       "  'autoincrement': 'auto',\n",
       "  'primary_key': 0},\n",
       " {'name': 'prcp',\n",
       "  'type': FLOAT(),\n",
       "  'nullable': True,\n",
       "  'default': None,\n",
       "  'autoincrement': 'auto',\n",
       "  'primary_key': 0},\n",
       " {'name': 'tobs',\n",
       "  'type': FLOAT(),\n",
       "  'nullable': True,\n",
       "  'default': None,\n",
       "  'autoincrement': 'auto',\n",
       "  'primary_key': 0}]"
      ]
     },
     "execution_count": 9,
     "metadata": {},
     "output_type": "execute_result"
    }
   ],
   "source": [
    "zz.get_columns('measurement')"
   ]
  },
  {
   "cell_type": "markdown",
   "metadata": {},
   "source": [
    "</br></br></br>\n",
    "\n",
    "This is the table of the nine weather stations, each with  location and elevation"
   ]
  },
  {
   "cell_type": "code",
   "execution_count": 10,
   "metadata": {},
   "outputs": [
    {
     "data": {
      "text/html": [
       "<div>\n",
       "<style scoped>\n",
       "    .dataframe tbody tr th:only-of-type {\n",
       "        vertical-align: middle;\n",
       "    }\n",
       "\n",
       "    .dataframe tbody tr th {\n",
       "        vertical-align: top;\n",
       "    }\n",
       "\n",
       "    .dataframe thead th {\n",
       "        text-align: right;\n",
       "    }\n",
       "</style>\n",
       "<table border=\"1\" class=\"dataframe\">\n",
       "  <thead>\n",
       "    <tr style=\"text-align: right;\">\n",
       "      <th></th>\n",
       "      <th>id</th>\n",
       "      <th>station</th>\n",
       "      <th>name</th>\n",
       "      <th>latitude</th>\n",
       "      <th>longitude</th>\n",
       "      <th>elevation</th>\n",
       "    </tr>\n",
       "  </thead>\n",
       "  <tbody>\n",
       "    <tr>\n",
       "      <th>0</th>\n",
       "      <td>1</td>\n",
       "      <td>USC00519397</td>\n",
       "      <td>WAIKIKI 717.2, HI US</td>\n",
       "      <td>21.27160</td>\n",
       "      <td>-157.81680</td>\n",
       "      <td>3.0</td>\n",
       "    </tr>\n",
       "    <tr>\n",
       "      <th>1</th>\n",
       "      <td>2</td>\n",
       "      <td>USC00513117</td>\n",
       "      <td>KANEOHE 838.1, HI US</td>\n",
       "      <td>21.42340</td>\n",
       "      <td>-157.80150</td>\n",
       "      <td>14.6</td>\n",
       "    </tr>\n",
       "    <tr>\n",
       "      <th>2</th>\n",
       "      <td>3</td>\n",
       "      <td>USC00514830</td>\n",
       "      <td>KUALOA RANCH HEADQUARTERS 886.9, HI US</td>\n",
       "      <td>21.52130</td>\n",
       "      <td>-157.83740</td>\n",
       "      <td>7.0</td>\n",
       "    </tr>\n",
       "    <tr>\n",
       "      <th>3</th>\n",
       "      <td>4</td>\n",
       "      <td>USC00517948</td>\n",
       "      <td>PEARL CITY, HI US</td>\n",
       "      <td>21.39340</td>\n",
       "      <td>-157.97510</td>\n",
       "      <td>11.9</td>\n",
       "    </tr>\n",
       "    <tr>\n",
       "      <th>4</th>\n",
       "      <td>5</td>\n",
       "      <td>USC00518838</td>\n",
       "      <td>UPPER WAHIAWA 874.3, HI US</td>\n",
       "      <td>21.49920</td>\n",
       "      <td>-158.01110</td>\n",
       "      <td>306.6</td>\n",
       "    </tr>\n",
       "    <tr>\n",
       "      <th>5</th>\n",
       "      <td>6</td>\n",
       "      <td>USC00519523</td>\n",
       "      <td>WAIMANALO EXPERIMENTAL FARM, HI US</td>\n",
       "      <td>21.33556</td>\n",
       "      <td>-157.71139</td>\n",
       "      <td>19.5</td>\n",
       "    </tr>\n",
       "    <tr>\n",
       "      <th>6</th>\n",
       "      <td>7</td>\n",
       "      <td>USC00519281</td>\n",
       "      <td>WAIHEE 837.5, HI US</td>\n",
       "      <td>21.45167</td>\n",
       "      <td>-157.84889</td>\n",
       "      <td>32.9</td>\n",
       "    </tr>\n",
       "    <tr>\n",
       "      <th>7</th>\n",
       "      <td>8</td>\n",
       "      <td>USC00511918</td>\n",
       "      <td>HONOLULU OBSERVATORY 702.2, HI US</td>\n",
       "      <td>21.31520</td>\n",
       "      <td>-157.99920</td>\n",
       "      <td>0.9</td>\n",
       "    </tr>\n",
       "    <tr>\n",
       "      <th>8</th>\n",
       "      <td>9</td>\n",
       "      <td>USC00516128</td>\n",
       "      <td>MANOA LYON ARBO 785.2, HI US</td>\n",
       "      <td>21.33310</td>\n",
       "      <td>-157.80250</td>\n",
       "      <td>152.4</td>\n",
       "    </tr>\n",
       "  </tbody>\n",
       "</table>\n",
       "</div>"
      ],
      "text/plain": [
       "   id      station                                    name  latitude  \\\n",
       "0   1  USC00519397                    WAIKIKI 717.2, HI US  21.27160   \n",
       "1   2  USC00513117                    KANEOHE 838.1, HI US  21.42340   \n",
       "2   3  USC00514830  KUALOA RANCH HEADQUARTERS 886.9, HI US  21.52130   \n",
       "3   4  USC00517948                       PEARL CITY, HI US  21.39340   \n",
       "4   5  USC00518838              UPPER WAHIAWA 874.3, HI US  21.49920   \n",
       "5   6  USC00519523      WAIMANALO EXPERIMENTAL FARM, HI US  21.33556   \n",
       "6   7  USC00519281                     WAIHEE 837.5, HI US  21.45167   \n",
       "7   8  USC00511918       HONOLULU OBSERVATORY 702.2, HI US  21.31520   \n",
       "8   9  USC00516128            MANOA LYON ARBO 785.2, HI US  21.33310   \n",
       "\n",
       "   longitude  elevation  \n",
       "0 -157.81680        3.0  \n",
       "1 -157.80150       14.6  \n",
       "2 -157.83740        7.0  \n",
       "3 -157.97510       11.9  \n",
       "4 -158.01110      306.6  \n",
       "5 -157.71139       19.5  \n",
       "6 -157.84889       32.9  \n",
       "7 -157.99920        0.9  \n",
       "8 -157.80250      152.4  "
      ]
     },
     "execution_count": 10,
     "metadata": {},
     "output_type": "execute_result"
    }
   ],
   "source": [
    "xxx = surf_engine.connect()\n",
    "ee = \"SELECT * FROM station\"\n",
    "yyy = pd.read_sql(ee,xxx)\n",
    "yyy"
   ]
  },
  {
   "cell_type": "code",
   "execution_count": 11,
   "metadata": {},
   "outputs": [
    {
     "data": {
      "text/plain": [
       "['measurement', 'station']"
      ]
     },
     "execution_count": 11,
     "metadata": {},
     "output_type": "execute_result"
    }
   ],
   "source": [
    "zz = inspect(xx)\n",
    "zz.get_table_names() "
   ]
  },
  {
   "cell_type": "code",
   "execution_count": 12,
   "metadata": {},
   "outputs": [
    {
     "data": {
      "text/plain": [
       "[{'name': 'id',\n",
       "  'type': INTEGER(),\n",
       "  'nullable': False,\n",
       "  'default': None,\n",
       "  'autoincrement': 'auto',\n",
       "  'primary_key': 1},\n",
       " {'name': 'station',\n",
       "  'type': TEXT(),\n",
       "  'nullable': True,\n",
       "  'default': None,\n",
       "  'autoincrement': 'auto',\n",
       "  'primary_key': 0},\n",
       " {'name': 'name',\n",
       "  'type': TEXT(),\n",
       "  'nullable': True,\n",
       "  'default': None,\n",
       "  'autoincrement': 'auto',\n",
       "  'primary_key': 0},\n",
       " {'name': 'latitude',\n",
       "  'type': FLOAT(),\n",
       "  'nullable': True,\n",
       "  'default': None,\n",
       "  'autoincrement': 'auto',\n",
       "  'primary_key': 0},\n",
       " {'name': 'longitude',\n",
       "  'type': FLOAT(),\n",
       "  'nullable': True,\n",
       "  'default': None,\n",
       "  'autoincrement': 'auto',\n",
       "  'primary_key': 0},\n",
       " {'name': 'elevation',\n",
       "  'type': FLOAT(),\n",
       "  'nullable': True,\n",
       "  'default': None,\n",
       "  'autoincrement': 'auto',\n",
       "  'primary_key': 0}]"
      ]
     },
     "execution_count": 12,
     "metadata": {},
     "output_type": "execute_result"
    }
   ],
   "source": [
    "zz.get_columns('station')"
   ]
  },
  {
   "cell_type": "markdown",
   "metadata": {},
   "source": [
    "</br></br></br>\n",
    "##### Here is a query that selects the readings for only the table's most recent year, reduces the table to just date and precip, which i then use to make a dataframe"
   ]
  },
  {
   "cell_type": "code",
   "execution_count": 13,
   "metadata": {},
   "outputs": [
    {
     "data": {
      "text/plain": [
       "[(2365, 'USC00519397', '2016-08-24', 0.08, 79.0),\n",
       " (2366, 'USC00519397', '2016-08-25', 0.08, 80.0),\n",
       " (2367, 'USC00519397', '2016-08-26', 0.0, 79.0),\n",
       " (2368, 'USC00519397', '2016-08-27', 0.0, 77.0),\n",
       " (2369, 'USC00519397', '2016-08-28', 0.01, 78.0),\n",
       " (2370, 'USC00519397', '2016-08-29', 0.0, 78.0),\n",
       " (2371, 'USC00519397', '2016-08-30', 0.0, 79.0),\n",
       " (2372, 'USC00519397', '2016-08-31', 0.13, 80.0),\n",
       " (2373, 'USC00519397', '2016-09-01', 0.0, 81.0),\n",
       " (2374, 'USC00519397', '2016-09-02', 0.0, 80.0)]"
      ]
     },
     "execution_count": 13,
     "metadata": {},
     "output_type": "execute_result"
    }
   ],
   "source": [
    "aa = \"SELECT measurement.id, measurement.station, measurement.date, measurement.prcp, measurement.tobs \\\n",
    "FROM measurement \\\n",
    "WHERE measurement.date BETWEEN '2016-08-24' AND '2017-08-23'\\\n",
    "LIMIT 10 ;\"\n",
    "\n",
    "surf_engine.execute(aa).fetchall()"
   ]
  },
  {
   "cell_type": "code",
   "execution_count": 14,
   "metadata": {},
   "outputs": [
    {
     "data": {
      "text/html": [
       "<div>\n",
       "<style scoped>\n",
       "    .dataframe tbody tr th:only-of-type {\n",
       "        vertical-align: middle;\n",
       "    }\n",
       "\n",
       "    .dataframe tbody tr th {\n",
       "        vertical-align: top;\n",
       "    }\n",
       "\n",
       "    .dataframe thead th {\n",
       "        text-align: right;\n",
       "    }\n",
       "</style>\n",
       "<table border=\"1\" class=\"dataframe\">\n",
       "  <thead>\n",
       "    <tr style=\"text-align: right;\">\n",
       "      <th></th>\n",
       "      <th>id</th>\n",
       "      <th>station</th>\n",
       "      <th>date</th>\n",
       "      <th>prcp</th>\n",
       "      <th>tobs</th>\n",
       "    </tr>\n",
       "  </thead>\n",
       "  <tbody>\n",
       "    <tr>\n",
       "      <th>0</th>\n",
       "      <td>2365</td>\n",
       "      <td>USC00519397</td>\n",
       "      <td>2016-08-24</td>\n",
       "      <td>0.08</td>\n",
       "      <td>79.0</td>\n",
       "    </tr>\n",
       "    <tr>\n",
       "      <th>1</th>\n",
       "      <td>2366</td>\n",
       "      <td>USC00519397</td>\n",
       "      <td>2016-08-25</td>\n",
       "      <td>0.08</td>\n",
       "      <td>80.0</td>\n",
       "    </tr>\n",
       "    <tr>\n",
       "      <th>2</th>\n",
       "      <td>2367</td>\n",
       "      <td>USC00519397</td>\n",
       "      <td>2016-08-26</td>\n",
       "      <td>0.00</td>\n",
       "      <td>79.0</td>\n",
       "    </tr>\n",
       "    <tr>\n",
       "      <th>3</th>\n",
       "      <td>2368</td>\n",
       "      <td>USC00519397</td>\n",
       "      <td>2016-08-27</td>\n",
       "      <td>0.00</td>\n",
       "      <td>77.0</td>\n",
       "    </tr>\n",
       "    <tr>\n",
       "      <th>4</th>\n",
       "      <td>2369</td>\n",
       "      <td>USC00519397</td>\n",
       "      <td>2016-08-28</td>\n",
       "      <td>0.01</td>\n",
       "      <td>78.0</td>\n",
       "    </tr>\n",
       "  </tbody>\n",
       "</table>\n",
       "</div>"
      ],
      "text/plain": [
       "     id      station        date  prcp  tobs\n",
       "0  2365  USC00519397  2016-08-24  0.08  79.0\n",
       "1  2366  USC00519397  2016-08-25  0.08  80.0\n",
       "2  2367  USC00519397  2016-08-26  0.00  79.0\n",
       "3  2368  USC00519397  2016-08-27  0.00  77.0\n",
       "4  2369  USC00519397  2016-08-28  0.01  78.0"
      ]
     },
     "execution_count": 14,
     "metadata": {},
     "output_type": "execute_result"
    }
   ],
   "source": [
    "bb = \"SELECT measurement.id, measurement.station, measurement.date, measurement.prcp, measurement.tobs \\\n",
    "FROM measurement \\\n",
    "WHERE measurement.date BETWEEN '2016-08-24' AND '2017-08-23';\"\n",
    "xxxx = surf_engine.connect()\n",
    "dddd = pd.read_sql(bb,xxxx)\n",
    "dddd.head()"
   ]
  },
  {
   "cell_type": "code",
   "execution_count": 15,
   "metadata": {},
   "outputs": [
    {
     "data": {
      "text/plain": [
       "[('2016-08-24', 0.08),\n",
       " ('2016-08-25', 0.08),\n",
       " ('2016-08-26', 0.0),\n",
       " ('2016-08-27', 0.0),\n",
       " ('2016-08-28', 0.01),\n",
       " ('2016-08-29', 0.0),\n",
       " ('2016-08-30', 0.0),\n",
       " ('2016-08-31', 0.13),\n",
       " ('2016-09-01', 0.0),\n",
       " ('2016-09-02', 0.0)]"
      ]
     },
     "execution_count": 15,
     "metadata": {},
     "output_type": "execute_result"
    }
   ],
   "source": [
    "cc = \"SELECT measurement.date, measurement.prcp \\\n",
    "FROM measurement \\\n",
    "WHERE measurement.date BETWEEN '2016-08-24' AND '2017-08-23'\\\n",
    "LIMIT 10 ;\"\n",
    "\n",
    "surf_engine.execute(cc).fetchall()"
   ]
  },
  {
   "cell_type": "code",
   "execution_count": 16,
   "metadata": {},
   "outputs": [
    {
     "data": {
      "text/html": [
       "<div>\n",
       "<style scoped>\n",
       "    .dataframe tbody tr th:only-of-type {\n",
       "        vertical-align: middle;\n",
       "    }\n",
       "\n",
       "    .dataframe tbody tr th {\n",
       "        vertical-align: top;\n",
       "    }\n",
       "\n",
       "    .dataframe thead th {\n",
       "        text-align: right;\n",
       "    }\n",
       "</style>\n",
       "<table border=\"1\" class=\"dataframe\">\n",
       "  <thead>\n",
       "    <tr style=\"text-align: right;\">\n",
       "      <th></th>\n",
       "      <th>prcp</th>\n",
       "    </tr>\n",
       "    <tr>\n",
       "      <th>date</th>\n",
       "      <th></th>\n",
       "    </tr>\n",
       "  </thead>\n",
       "  <tbody>\n",
       "    <tr>\n",
       "      <th>2016-08-24</th>\n",
       "      <td>0.08</td>\n",
       "    </tr>\n",
       "    <tr>\n",
       "      <th>2016-08-25</th>\n",
       "      <td>0.08</td>\n",
       "    </tr>\n",
       "    <tr>\n",
       "      <th>2016-08-26</th>\n",
       "      <td>0.00</td>\n",
       "    </tr>\n",
       "    <tr>\n",
       "      <th>2016-08-27</th>\n",
       "      <td>0.00</td>\n",
       "    </tr>\n",
       "    <tr>\n",
       "      <th>2016-08-28</th>\n",
       "      <td>0.01</td>\n",
       "    </tr>\n",
       "  </tbody>\n",
       "</table>\n",
       "</div>"
      ],
      "text/plain": [
       "            prcp\n",
       "date            \n",
       "2016-08-24  0.08\n",
       "2016-08-25  0.08\n",
       "2016-08-26  0.00\n",
       "2016-08-27  0.00\n",
       "2016-08-28  0.01"
      ]
     },
     "execution_count": 16,
     "metadata": {},
     "output_type": "execute_result"
    }
   ],
   "source": [
    "dd = \"SELECT measurement.date, measurement.prcp \\\n",
    "FROM measurement \\\n",
    "WHERE measurement.date BETWEEN '2016-08-24' AND '2017-08-23'\\\n",
    " ;\"\n",
    "\n",
    "xxxx = surf_engine.connect()\n",
    "OneYearPrecip = pd.read_sql(dd,xxxx)\n",
    "OneYearPrecip.set_index(\"date\",inplace=True)\n",
    "OneYearPrecip.head()"
   ]
  },
  {
   "cell_type": "markdown",
   "metadata": {},
   "source": [
    "</br></br>\n",
    "<h4>Precipitation Chart</h4>\n",
    "For the charts most recenta year, August 24, 2016 - August 23, 2017, here is the amount of rainfall in inches "
   ]
  },
  {
   "cell_type": "code",
   "execution_count": 81,
   "metadata": {},
   "outputs": [
    {
     "data": {
      "image/png": "[encoded data removed]",
      "text/plain": [
       "<Figure size 1440x720 with 1 Axes>"
      ]
     },
     "metadata": {
      "needs_background": "light"
     },
     "output_type": "display_data"
    }
   ],
   "source": [
    "import matplotlib.pyplot as plt\n",
    "%matplotlib inline\n",
    "\n",
    "OneYearPrecip.plot(kind=\"bar\", figsize=(20,10),rot=0,facecolor=\"green\", alpha=1)\n",
    "plt.legend(loc=2)\n",
    "plt.grid(axis=\"y\",color=\"lightblue\")\n",
    "plt.title(\"Precipitation: this past year\")\n",
    "plt.xlabel(\"date\")\n",
    "plt.ylabel(\"precipitation (inches)\")\n",
    "\n",
    "plt.show()"
   ]
  },
  {
   "cell_type": "markdown",
   "metadata": {},
   "source": [
    "<br>\n",
    "<br>\n",
    "<br>\n",
    "Query to list station names and number of measurements contribiuted by each in descending order."
   ]
  },
  {
   "cell_type": "code",
   "execution_count": 18,
   "metadata": {},
   "outputs": [
    {
     "data": {
      "text/plain": [
       "[('USC00519281', 'WAIHEE 837.5, HI US', 2772),\n",
       " ('USC00519397', 'WAIKIKI 717.2, HI US', 2724),\n",
       " ('USC00513117', 'KANEOHE 838.1, HI US', 2709),\n",
       " ('USC00519523', 'WAIMANALO EXPERIMENTAL FARM, HI US', 2669),\n",
       " ('USC00516128', 'MANOA LYON ARBO 785.2, HI US', 2612),\n",
       " ('USC00514830', 'KUALOA RANCH HEADQUARTERS 886.9, HI US', 2202),\n",
       " ('USC00511918', 'HONOLULU OBSERVATORY 702.2, HI US', 1979),\n",
       " ('USC00517948', 'PEARL CITY, HI US', 1372),\n",
       " ('USC00518838', 'UPPER WAHIAWA 874.3, HI US', 511)]"
      ]
     },
     "execution_count": 18,
     "metadata": {},
     "output_type": "execute_result"
    }
   ],
   "source": [
    "CountPerStation = \"SELECT measurement.station, station.name, \\\n",
    "COUNT(measurement.station) AS 'station_count' \\\n",
    "FROM measurement \\\n",
    "LEFT JOIN station \\\n",
    "ON measurement.station = station.station \\\n",
    "GROUP BY measurement.station \\\n",
    "ORDER BY station_count DESC;\"\n",
    "\n",
    "surf_engine.execute(CountPerStation).fetchall()"
   ]
  },
  {
   "cell_type": "markdown",
   "metadata": {},
   "source": [
    "The table above shows that Waihee station has the highest number of observations at 2772."
   ]
  },
  {
   "cell_type": "markdown",
   "metadata": {},
   "source": [
    "<br>\n",
    "Next, I filter the measurement data to display the last years readings of the most productive station, Waihee"
   ]
  },
  {
   "cell_type": "code",
   "execution_count": 41,
   "metadata": {},
   "outputs": [
    {
     "data": {
      "text/html": [
       "<div>\n",
       "<style scoped>\n",
       "    .dataframe tbody tr th:only-of-type {\n",
       "        vertical-align: middle;\n",
       "    }\n",
       "\n",
       "    .dataframe tbody tr th {\n",
       "        vertical-align: top;\n",
       "    }\n",
       "\n",
       "    .dataframe thead th {\n",
       "        text-align: right;\n",
       "    }\n",
       "</style>\n",
       "<table border=\"1\" class=\"dataframe\">\n",
       "  <thead>\n",
       "    <tr style=\"text-align: right;\">\n",
       "      <th></th>\n",
       "      <th>date</th>\n",
       "      <th>station</th>\n",
       "      <th>tobs</th>\n",
       "    </tr>\n",
       "  </thead>\n",
       "  <tbody>\n",
       "    <tr>\n",
       "      <th>0</th>\n",
       "      <td>2016-08-24</td>\n",
       "      <td>USC00519281</td>\n",
       "      <td>77.0</td>\n",
       "    </tr>\n",
       "    <tr>\n",
       "      <th>1</th>\n",
       "      <td>2016-08-25</td>\n",
       "      <td>USC00519281</td>\n",
       "      <td>80.0</td>\n",
       "    </tr>\n",
       "    <tr>\n",
       "      <th>2</th>\n",
       "      <td>2016-08-26</td>\n",
       "      <td>USC00519281</td>\n",
       "      <td>80.0</td>\n",
       "    </tr>\n",
       "    <tr>\n",
       "      <th>3</th>\n",
       "      <td>2016-08-27</td>\n",
       "      <td>USC00519281</td>\n",
       "      <td>75.0</td>\n",
       "    </tr>\n",
       "    <tr>\n",
       "      <th>4</th>\n",
       "      <td>2016-08-28</td>\n",
       "      <td>USC00519281</td>\n",
       "      <td>73.0</td>\n",
       "    </tr>\n",
       "  </tbody>\n",
       "</table>\n",
       "</div>"
      ],
      "text/plain": [
       "         date      station  tobs\n",
       "0  2016-08-24  USC00519281  77.0\n",
       "1  2016-08-25  USC00519281  80.0\n",
       "2  2016-08-26  USC00519281  80.0\n",
       "3  2016-08-27  USC00519281  75.0\n",
       "4  2016-08-28  USC00519281  73.0"
      ]
     },
     "execution_count": 41,
     "metadata": {},
     "output_type": "execute_result"
    }
   ],
   "source": [
    "WaiheeLastYear = \"SELECT measurement.date, measurement.station, measurement.tobs \\\n",
    "FROM measurement \\\n",
    "WHERE measurement.date BETWEEN '2016-08-24' AND '2017-08-23' \\\n",
    "AND measurement.station = 'USC00519281'\"\n",
    "\n",
    "# surf_engine.execute(WaiheeLastYear).fetchall()\n",
    "\n",
    "xx = surf_engine.connect()\n",
    "WaiheeLastYearDF = pd.read_sql(WaiheeLastYear,xx)\n",
    "WaiheeLastYearDF.head()"
   ]
  },
  {
   "cell_type": "markdown",
   "metadata": {},
   "source": [
    "Here is how i found the min and max temps measured to design the bins. I also observe the mean\n",
    "and associated stats which gives me an indication of the eventual shape of the histogram"
   ]
  },
  {
   "cell_type": "code",
   "execution_count": 21,
   "metadata": {},
   "outputs": [
    {
     "data": {
      "text/html": [
       "<div>\n",
       "<style scoped>\n",
       "    .dataframe tbody tr th:only-of-type {\n",
       "        vertical-align: middle;\n",
       "    }\n",
       "\n",
       "    .dataframe tbody tr th {\n",
       "        vertical-align: top;\n",
       "    }\n",
       "\n",
       "    .dataframe thead th {\n",
       "        text-align: right;\n",
       "    }\n",
       "</style>\n",
       "<table border=\"1\" class=\"dataframe\">\n",
       "  <thead>\n",
       "    <tr style=\"text-align: right;\">\n",
       "      <th></th>\n",
       "      <th>tobs</th>\n",
       "    </tr>\n",
       "  </thead>\n",
       "  <tbody>\n",
       "    <tr>\n",
       "      <th>count</th>\n",
       "      <td>351.000000</td>\n",
       "    </tr>\n",
       "    <tr>\n",
       "      <th>mean</th>\n",
       "      <td>73.096866</td>\n",
       "    </tr>\n",
       "    <tr>\n",
       "      <th>std</th>\n",
       "      <td>4.735491</td>\n",
       "    </tr>\n",
       "    <tr>\n",
       "      <th>min</th>\n",
       "      <td>59.000000</td>\n",
       "    </tr>\n",
       "    <tr>\n",
       "      <th>25%</th>\n",
       "      <td>70.000000</td>\n",
       "    </tr>\n",
       "    <tr>\n",
       "      <th>50%</th>\n",
       "      <td>74.000000</td>\n",
       "    </tr>\n",
       "    <tr>\n",
       "      <th>75%</th>\n",
       "      <td>77.000000</td>\n",
       "    </tr>\n",
       "    <tr>\n",
       "      <th>max</th>\n",
       "      <td>83.000000</td>\n",
       "    </tr>\n",
       "  </tbody>\n",
       "</table>\n",
       "</div>"
      ],
      "text/plain": [
       "             tobs\n",
       "count  351.000000\n",
       "mean    73.096866\n",
       "std      4.735491\n",
       "min     59.000000\n",
       "25%     70.000000\n",
       "50%     74.000000\n",
       "75%     77.000000\n",
       "max     83.000000"
      ]
     },
     "execution_count": 21,
     "metadata": {},
     "output_type": "execute_result"
    }
   ],
   "source": [
    "WaiheeLastYearDF.describe()"
   ]
  },
  {
   "cell_type": "markdown",
   "metadata": {},
   "source": [
    "Next, I count the days each individual temp was recorded, design the bins [temp range = 24deg, assignment calls for 12 bins]"
   ]
  },
  {
   "cell_type": "code",
   "execution_count": 26,
   "metadata": {},
   "outputs": [
    {
     "data": {
      "text/html": [
       "<div>\n",
       "<style scoped>\n",
       "    .dataframe tbody tr th:only-of-type {\n",
       "        vertical-align: middle;\n",
       "    }\n",
       "\n",
       "    .dataframe tbody tr th {\n",
       "        vertical-align: top;\n",
       "    }\n",
       "\n",
       "    .dataframe thead th {\n",
       "        text-align: right;\n",
       "    }\n",
       "</style>\n",
       "<table border=\"1\" class=\"dataframe\">\n",
       "  <thead>\n",
       "    <tr style=\"text-align: right;\">\n",
       "      <th></th>\n",
       "      <th>tobs</th>\n",
       "      <th>date</th>\n",
       "      <th>station</th>\n",
       "    </tr>\n",
       "  </thead>\n",
       "  <tbody>\n",
       "    <tr>\n",
       "      <th>0</th>\n",
       "      <td>59.0</td>\n",
       "      <td>3</td>\n",
       "      <td>3</td>\n",
       "    </tr>\n",
       "    <tr>\n",
       "      <th>1</th>\n",
       "      <td>60.0</td>\n",
       "      <td>2</td>\n",
       "      <td>2</td>\n",
       "    </tr>\n",
       "    <tr>\n",
       "      <th>2</th>\n",
       "      <td>61.0</td>\n",
       "      <td>1</td>\n",
       "      <td>1</td>\n",
       "    </tr>\n",
       "    <tr>\n",
       "      <th>3</th>\n",
       "      <td>62.0</td>\n",
       "      <td>6</td>\n",
       "      <td>6</td>\n",
       "    </tr>\n",
       "    <tr>\n",
       "      <th>4</th>\n",
       "      <td>63.0</td>\n",
       "      <td>4</td>\n",
       "      <td>4</td>\n",
       "    </tr>\n",
       "  </tbody>\n",
       "</table>\n",
       "</div>"
      ],
      "text/plain": [
       "   tobs  date  station\n",
       "0  59.0     3        3\n",
       "1  60.0     2        2\n",
       "2  61.0     1        1\n",
       "3  62.0     6        6\n",
       "4  63.0     4        4"
      ]
     },
     "execution_count": 26,
     "metadata": {},
     "output_type": "execute_result"
    }
   ],
   "source": [
    "WaiheeGrouped = WaiheeLastYearDF.groupby(\"tobs\").count()\n",
    "WaiheeGrouped.reset_index(inplace=True)\n",
    "WaiheeGrouped.head()"
   ]
  },
  {
   "cell_type": "code",
   "execution_count": 45,
   "metadata": {},
   "outputs": [
    {
     "data": {
      "text/html": [
       "<div>\n",
       "<style scoped>\n",
       "    .dataframe tbody tr th:only-of-type {\n",
       "        vertical-align: middle;\n",
       "    }\n",
       "\n",
       "    .dataframe tbody tr th {\n",
       "        vertical-align: top;\n",
       "    }\n",
       "\n",
       "    .dataframe thead th {\n",
       "        text-align: right;\n",
       "    }\n",
       "</style>\n",
       "<table border=\"1\" class=\"dataframe\">\n",
       "  <thead>\n",
       "    <tr style=\"text-align: right;\">\n",
       "      <th></th>\n",
       "      <th>tobs</th>\n",
       "      <th>date</th>\n",
       "      <th>station</th>\n",
       "    </tr>\n",
       "    <tr>\n",
       "      <th>TobsBins</th>\n",
       "      <th></th>\n",
       "      <th></th>\n",
       "      <th></th>\n",
       "    </tr>\n",
       "  </thead>\n",
       "  <tbody>\n",
       "    <tr>\n",
       "      <th>59-61</th>\n",
       "      <td>121.0</td>\n",
       "      <td>3</td>\n",
       "      <td>3</td>\n",
       "    </tr>\n",
       "    <tr>\n",
       "      <th>62-63</th>\n",
       "      <td>125.0</td>\n",
       "      <td>10</td>\n",
       "      <td>10</td>\n",
       "    </tr>\n",
       "    <tr>\n",
       "      <th>64-65</th>\n",
       "      <td>129.0</td>\n",
       "      <td>10</td>\n",
       "      <td>10</td>\n",
       "    </tr>\n",
       "    <tr>\n",
       "      <th>66-67</th>\n",
       "      <td>133.0</td>\n",
       "      <td>20</td>\n",
       "      <td>20</td>\n",
       "    </tr>\n",
       "    <tr>\n",
       "      <th>68-69</th>\n",
       "      <td>137.0</td>\n",
       "      <td>31</td>\n",
       "      <td>31</td>\n",
       "    </tr>\n",
       "    <tr>\n",
       "      <th>70-71</th>\n",
       "      <td>141.0</td>\n",
       "      <td>40</td>\n",
       "      <td>40</td>\n",
       "    </tr>\n",
       "    <tr>\n",
       "      <th>72-73</th>\n",
       "      <td>145.0</td>\n",
       "      <td>40</td>\n",
       "      <td>40</td>\n",
       "    </tr>\n",
       "    <tr>\n",
       "      <th>74-75</th>\n",
       "      <td>149.0</td>\n",
       "      <td>72</td>\n",
       "      <td>72</td>\n",
       "    </tr>\n",
       "    <tr>\n",
       "      <th>76-77</th>\n",
       "      <td>153.0</td>\n",
       "      <td>63</td>\n",
       "      <td>63</td>\n",
       "    </tr>\n",
       "    <tr>\n",
       "      <th>78-79</th>\n",
       "      <td>157.0</td>\n",
       "      <td>40</td>\n",
       "      <td>40</td>\n",
       "    </tr>\n",
       "    <tr>\n",
       "      <th>80-81</th>\n",
       "      <td>161.0</td>\n",
       "      <td>15</td>\n",
       "      <td>15</td>\n",
       "    </tr>\n",
       "    <tr>\n",
       "      <th>82-83</th>\n",
       "      <td>165.0</td>\n",
       "      <td>4</td>\n",
       "      <td>4</td>\n",
       "    </tr>\n",
       "  </tbody>\n",
       "</table>\n",
       "</div>"
      ],
      "text/plain": [
       "           tobs  date  station\n",
       "TobsBins                      \n",
       "59-61     121.0     3        3\n",
       "62-63     125.0    10       10\n",
       "64-65     129.0    10       10\n",
       "66-67     133.0    20       20\n",
       "68-69     137.0    31       31\n",
       "70-71     141.0    40       40\n",
       "72-73     145.0    40       40\n",
       "74-75     149.0    72       72\n",
       "76-77     153.0    63       63\n",
       "78-79     157.0    40       40\n",
       "80-81     161.0    15       15\n",
       "82-83     165.0     4        4"
      ]
     },
     "execution_count": 45,
     "metadata": {},
     "output_type": "execute_result"
    }
   ],
   "source": [
    "tobsBins = [59,61,63,65,67,69,71,73,75,77,79,81,83]\n",
    "tobsBinIndex = [\"59-61\",\"62-63\",\"64-65\",\"66-67\",\"68-69\",\"70-71\",\"72-73\",\"74-75\",\"76-77\",\"78-79\",\"80-81\",\"82-83\"]\n",
    "\n",
    "WaiheeLastYearBin = pd.cut(WaiheeGrouped[\"tobs\"], tobsBins,labels=tobsBinIndex)\n",
    "WaiheeGrouped['TobsBins'] = pd.Series(WaiheeLastYearBin)\n",
    "# WaiheeLastYearBin.head()\n",
    "WaiheeGrouped.groupby('TobsBins').sum()"
   ]
  },
  {
   "cell_type": "markdown",
   "metadata": {},
   "source": [
    "</br></br>\n",
    "<h4>Temp Histogram</h4>\n",
    "Turns out, all that munging and cutting can be done easily with Pandas.<br>\n",
    "Here is the histogram showing the frequency of each two-degree temperature bin."
   ]
  },
  {
   "cell_type": "code",
   "execution_count": 80,
   "metadata": {},
   "outputs": [
    {
     "data": {
      "image/png": "[encoded data removed]",
      "text/plain": [
       "<Figure size 1440x720 with 1 Axes>"
      ]
     },
     "metadata": {
      "needs_background": "light"
     },
     "output_type": "display_data"
    }
   ],
   "source": [
    "WaiheeLastYearDF.plot.hist(bins=12,figsize=(20,10),rot=0,facecolor=\"lightgreen\", alpha=1)\n",
    "\n",
    "plt.grid(axis=\"y\",color=\"lightblue\")\n",
    "plt.title(\"Histogram: Frequency of temperatures from Waihee station for one year\")\n",
    "plt.xlabel(\"tobs\")\n",
    "\n",
    "plt.show()"
   ]
  },
  {
   "cell_type": "code",
   "execution_count": null,
   "metadata": {},
   "outputs": [],
   "source": []
  },
  {
   "cell_type": "code",
   "execution_count": null,
   "metadata": {},
   "outputs": [],
   "source": []
  }
 ],
 "metadata": {
  "kernelspec": {
   "display_name": "Python 3",
   "language": "python",
   "name": "python3"
  },
  "language_info": {
   "codemirror_mode": {
    "name": "ipython",
    "version": 3
   },
   "file_extension": ".py",
   "mimetype": "text/x-python",
   "name": "python",
   "nbconvert_exporter": "python",
   "pygments_lexer": "ipython3",
   "version": "3.7.1"
  }
 },
 "nbformat": 4,
 "nbformat_minor": 2
}
